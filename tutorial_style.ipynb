{
 "cells": [
  {
   "cell_type": "markdown",
   "metadata": {
    "colab_type": "text",
    "id": "rKyNp_FWPuFL"
   },
   "source": [
    "# Learn to write a NumPy tutorial\n",
    "***"
   ]
  },
  {
   "cell_type": "markdown",
   "metadata": {
    "colab_type": "text",
    "id": "8VpdPmoZkR7_"
   },
   "source": [
    "![image](https://documentation.divio.com/_images/overview.png)\n",
    "<p style=\"text-align:right;font-style:italic;\">Image credit: Daniele Procida's <a href=\"https://documentation.divio.com/\">The documentation system</a></p>"
   ]
  },
  {
   "cell_type": "markdown",
   "metadata": {
    "colab_type": "text",
    "id": "WICNDncaP8k_"
   },
   "source": [
    "## What you'll do\n",
    "\n",
    "Guided by a template, you'll write a NumPy tutorial.\n",
    "\n",
    "## What you'll learn\n",
    "\n",
    "You'll be able to craft a tutorial that \n",
    "follows a standard format reflects good teaching practice.\n",
    "\n",
    "You'll learn the three standard headings that open a NumPy tutorial -- \"What you'll do,\" \"What you'll learn,\" and \"What you'll need\" -- and some optional headings for the bottom -- \"On your own,\" \"In practice,\" \"Further reading.\"\n",
    "\n",
    "You'll know what makes \"What you'll learn\" different from \"What you'll do.\"\n",
    "\n",
    "You'll be able to distinguish a tutorial from a how-to.\n",
    "\n",
    "\n",
    "## What you'll need\n",
    "\n",
    "This template.\n",
    "\n",
    "Informality and enthusiasm. Imagine your reader not out in the audience but next to you.\n",
    "\n",
    "Ability to write incomplete sentences. Sentences in \"What you'll need\" do not begin \"You'll need.\"\n",
    "\n",
    "**Not** required are native English skills. Others can help with this.\n",
    "\n",
    "\n",
    "***\n",
    "\n",
    "## Start your own headings after a horizontal rule\n",
    "\n",
    "Headings to wrap things up are listed at the end.\n",
    "\n",
    "\n",
    "## Titles have verbs\n",
    "\n",
    "In general, include a verb in the title; thus \"Learn to write a NumPy tutorial\" rather than \"Rules for NumPy tutorials.\"\n",
    "\n",
    "\n",
    "## Titles are lowercase\n",
    "\n",
    "Only the first word is capitalzed (so not \"Titles Are Lowercase.\").\n",
    "\n",
    "\n",
    "## Avoid asides\n",
    "\n",
    "[Procida](https://documentation.divio.com/tutorials) writes:\n",
    "\n",
    "> Don’t explain anything the learner doesn’t need to know in order to complete the tutorial. \n",
    "\n",
    "Tutorial steps are clear and easy; production-grade, probably not. Don't stop to qualify; do this after the tutorial. \n",
    "\n",
    "\n",
    "## Use plots and illustrations\n",
    "\n",
    "Figures are a double win; they amplify your points and make the page inviting.  Like English skills, artistic skills (or graphic-tool skills) aren't required. Even if you only scan a hand illustration, somebody can polish it.\n",
    "\n",
    "An illustration below the title, even if it's only decorative, makes the page distinctive.\n",
    "\n",
    "\n",
    "## Use real datasets when possible\n",
    "\n",
    "Readers are likelier to be engaged by a real use case. Be sure you have rights to the data.\n",
    "\n",
    "\n",
    "## Tutorials and how-to's  -- similar but different\n",
    "\n",
    "Tutorials are a guided tour. Tutorial readers look to get a feel for the terrain. The tutorial walks the reader through a solution, but what the solution is is subordinate. The journey is the destination. \n",
    "\n",
    "Unlike a how-to reader, who doesn't know how to achieve a goal, tutorial readers don't know what it is they don't know.\n",
    "\n",
    "## Make use of the Google doc style guide\n",
    "\n",
    "We follow the [Google developer documentation style guide](https://developers.google.com/style/). In addition to providing answers to recurring questions (crossreference or cross-reference?) it's filled with suggestions that will strenghten your doc writing.\n",
    "\n",
    "\n",
    "***\n",
    "\n",
    "## On your own\n",
    "\n",
    "End the tutorial section with a horizontal rule. It can be followed with an \"On your own\" section for\n",
    "the reader to practice their skills.\n",
    "\n",
    "## In practice...\n",
    "\n",
    "- The asides that were avoided above can be dealt with here. \n",
    "\n",
    "- You can, for instance, explain why the \n",
    "  simple approach used in the tutorial is not used in practice.\n",
    "  \n",
    "- Ordinarily this is a bulleted list.  \n",
    "\n",
    "\n",
    "## Further reading\n",
    "\n",
    "- Ideally, rather than giving a bare link, you'd describe the reference: [The Documentation System](https://documentation.divio.com/) is the inspiration for this tutorial, and describes three other kinds of documentation.\n",
    "- The Google guide is long; there's also [a summary](https://developers.google.com/style/highlights?hl=pt-br)\n",
    "- NumPy's website includes a [documentation how-to](https://numpy.org/devdocs/dev/howto-docs.html).\n",
    "\n"
   ]
  }
 ],
 "metadata": {
  "colab": {
   "include_colab_link": true,
   "name": "tutorial-svd.ipynb",
   "provenance": []
  },
  "kernelspec": {
   "display_name": "Python 3",
   "language": "python",
   "name": "python3"
  },
  "language_info": {
   "codemirror_mode": {
    "name": "ipython",
    "version": 3
   },
   "file_extension": ".py",
   "mimetype": "text/x-python",
   "name": "python",
   "nbconvert_exporter": "python",
   "pygments_lexer": "ipython3",
   "version": "3.8.3"
  }
 },
 "nbformat": 4,
 "nbformat_minor": 4
}
